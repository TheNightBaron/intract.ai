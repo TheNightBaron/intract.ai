{
 "cells": [
  {
   "cell_type": "code",
   "execution_count": 1,
   "metadata": {},
   "outputs": [],
   "source": [
    "import pandas as pd\n",
    "from sklearn.feature_extraction.text import TfidfVectorizer, ENGLISH_STOP_WORDS\n",
    "from sklearn.decomposition import PCA\n",
    "import matplotlib.pyplot as plt\n",
    "import numpy as np\n",
    "from sklearn.cluster import KMeans\n",
    "from nltk.stem import WordNetLemmatizer\n",
    "from nltk.stem import PorterStemmer\n",
    "from sklearn.metrics.pairwise import linear_kernel"
   ]
  },
  {
   "cell_type": "code",
   "execution_count": 33,
   "metadata": {},
   "outputs": [],
   "source": [
    "# reference_article = 'https://towardsdatascience.com/how-i-used-machine-learning-to-classify-emails-and-turn-them-into-insights-efed37c1e66'\n",
    "# reference_article2 = 'https://towardsdatascience.com/how-i-used-machine-learning-to-classify-emails-and-turn-them-into-insights-part-2-6a8f26477c86'"
   ]
  },
  {
   "cell_type": "code",
   "execution_count": 34,
   "metadata": {},
   "outputs": [],
   "source": [
    "# df = pd.read_excel(r\"C:\\Users\\Harsh Garg\\Desktop\\intract\\Email Subject Line Extra got online.xlsx\", index = False)\n",
    "# preprocessing required"
   ]
  },
  {
   "cell_type": "code",
   "execution_count": 4,
   "metadata": {},
   "outputs": [],
   "source": [
    "emails = pd.read_excel(r\"C:\\Users\\Harsh Garg\\Desktop\\intract\\Email Subject Line Scrapper.xlsx\",None)"
   ]
  },
  {
   "cell_type": "code",
   "execution_count": 5,
   "metadata": {},
   "outputs": [
    {
     "data": {
      "text/plain": [
       "dict_keys(['config', 'data', 'Saved Data', 'Sheet4'])"
      ]
     },
     "execution_count": 5,
     "metadata": {},
     "output_type": "execute_result"
    }
   ],
   "source": [
    "emails.keys()"
   ]
  },
  {
   "cell_type": "code",
   "execution_count": 6,
   "metadata": {},
   "outputs": [],
   "source": [
    "emails = emails.get('Saved Data')"
   ]
  },
  {
   "cell_type": "code",
   "execution_count": 7,
   "metadata": {},
   "outputs": [
    {
     "data": {
      "text/plain": [
       "(1541, 8)"
      ]
     },
     "execution_count": 7,
     "metadata": {},
     "output_type": "execute_result"
    }
   ],
   "source": [
    "emails.shape"
   ]
  },
  {
   "cell_type": "code",
   "execution_count": 8,
   "metadata": {},
   "outputs": [],
   "source": [
    "emails = emails.drop(columns = 'Unnamed: 7')\n",
    "\n",
    "emails = emails.drop_duplicates(subset = 'Message Id')\n",
    "emails = emails.drop_duplicates(subset = 'Subject Line')"
   ]
  },
  {
   "cell_type": "code",
   "execution_count": 9,
   "metadata": {},
   "outputs": [
    {
     "data": {
      "text/plain": [
       "(1119, 7)"
      ]
     },
     "execution_count": 9,
     "metadata": {},
     "output_type": "execute_result"
    }
   ],
   "source": [
    "emails.shape"
   ]
  },
  {
   "cell_type": "code",
   "execution_count": 10,
   "metadata": {},
   "outputs": [
    {
     "data": {
      "text/html": [
       "<div>\n",
       "<style scoped>\n",
       "    .dataframe tbody tr th:only-of-type {\n",
       "        vertical-align: middle;\n",
       "    }\n",
       "\n",
       "    .dataframe tbody tr th {\n",
       "        vertical-align: top;\n",
       "    }\n",
       "\n",
       "    .dataframe thead th {\n",
       "        text-align: right;\n",
       "    }\n",
       "</style>\n",
       "<table border=\"1\" class=\"dataframe\">\n",
       "  <thead>\n",
       "    <tr style=\"text-align: right;\">\n",
       "      <th></th>\n",
       "      <th>Date</th>\n",
       "      <th>Message Id</th>\n",
       "      <th>From</th>\n",
       "      <th>Email</th>\n",
       "      <th>Subject Line</th>\n",
       "      <th>Concated Body</th>\n",
       "      <th>Email from</th>\n",
       "    </tr>\n",
       "  </thead>\n",
       "  <tbody>\n",
       "    <tr>\n",
       "      <th>0</th>\n",
       "      <td>2021-10-01 19:26:52</td>\n",
       "      <td>17c3c24c23506d3c</td>\n",
       "      <td>Paytm Offers</td>\n",
       "      <td>noreply@paytmoffers.in</td>\n",
       "      <td>Aey Raju, Salary Aa Gayi Rey Baba 🤓</td>\n",
       "      <td>Paytm par deals check kar to</td>\n",
       "      <td>NaN</td>\n",
       "    </tr>\n",
       "    <tr>\n",
       "      <th>1</th>\n",
       "      <td>2021-10-01 13:50:21</td>\n",
       "      <td>17c3af0a22235012</td>\n",
       "      <td>Swiggy Instamart</td>\n",
       "      <td>alerts@updates.swiggy.in</td>\n",
       "      <td>October's first grocery bill will be a short o...</td>\n",
       "      <td>Email Template \\n[image: Get 3</td>\n",
       "      <td>NaN</td>\n",
       "    </tr>\n",
       "    <tr>\n",
       "      <th>2</th>\n",
       "      <td>2021-10-01 11:43:23</td>\n",
       "      <td>17c3a816c53f6b1c</td>\n",
       "      <td>Zomato</td>\n",
       "      <td>noreply@mailers.zomato.com</td>\n",
       "      <td>Guess who always makes you smile? 😃</td>\n",
       "      <td>Here are your hints - you lov</td>\n",
       "      <td>abhishek12318@gmail.com</td>\n",
       "    </tr>\n",
       "    <tr>\n",
       "      <th>3</th>\n",
       "      <td>2021-10-01 11:30:42</td>\n",
       "      <td>17c3a70d12cf6c44</td>\n",
       "      <td>BookMyShow Stream</td>\n",
       "      <td>no-reply@explore.bookmyshow.com</td>\n",
       "      <td>INCOMING:Max G.I.Joe Ninja action ft.Henry Gol...</td>\n",
       "      <td>[image: BOOKMYSHOW STREAM |</td>\n",
       "      <td>NaN</td>\n",
       "    </tr>\n",
       "    <tr>\n",
       "      <th>4</th>\n",
       "      <td>2021-10-01 06:34:20</td>\n",
       "      <td>17c396185aa93ea4</td>\n",
       "      <td>Flipkart</td>\n",
       "      <td>no-reply@ncb.flipkart.com</td>\n",
       "      <td>New AC/TV/Laptop on your mind?</td>\n",
       "      <td>NaN</td>\n",
       "      <td>NaN</td>\n",
       "    </tr>\n",
       "  </tbody>\n",
       "</table>\n",
       "</div>"
      ],
      "text/plain": [
       "                 Date        Message Id               From  \\\n",
       "0 2021-10-01 19:26:52  17c3c24c23506d3c       Paytm Offers   \n",
       "1 2021-10-01 13:50:21  17c3af0a22235012   Swiggy Instamart   \n",
       "2 2021-10-01 11:43:23  17c3a816c53f6b1c             Zomato   \n",
       "3 2021-10-01 11:30:42  17c3a70d12cf6c44  BookMyShow Stream   \n",
       "4 2021-10-01 06:34:20  17c396185aa93ea4           Flipkart   \n",
       "\n",
       "                             Email  \\\n",
       "0           noreply@paytmoffers.in   \n",
       "1         alerts@updates.swiggy.in   \n",
       "2       noreply@mailers.zomato.com   \n",
       "3  no-reply@explore.bookmyshow.com   \n",
       "4        no-reply@ncb.flipkart.com   \n",
       "\n",
       "                                        Subject Line  \\\n",
       "0                Aey Raju, Salary Aa Gayi Rey Baba 🤓   \n",
       "1  October's first grocery bill will be a short o...   \n",
       "2                Guess who always makes you smile? 😃   \n",
       "3  INCOMING:Max G.I.Joe Ninja action ft.Henry Gol...   \n",
       "4                     New AC/TV/Laptop on your mind?   \n",
       "\n",
       "                    Concated Body               Email from  \n",
       "0    Paytm par deals check kar to                      NaN  \n",
       "1  Email Template \\n[image: Get 3                      NaN  \n",
       "2   Here are your hints - you lov  abhishek12318@gmail.com  \n",
       "3     [image: BOOKMYSHOW STREAM |                      NaN  \n",
       "4                             NaN                      NaN  "
      ]
     },
     "execution_count": 10,
     "metadata": {},
     "output_type": "execute_result"
    }
   ],
   "source": [
    "emails.head()"
   ]
  },
  {
   "cell_type": "code",
   "execution_count": 11,
   "metadata": {},
   "outputs": [],
   "source": [
    "emails = emails[['Email','Subject Line','Email from']]\n",
    "emails['Email from'] = emails['Email from'].fillna('abhishek12318@gmail.com')"
   ]
  },
  {
   "cell_type": "markdown",
   "metadata": {},
   "source": [
    "### Experimental - Start (TFIDF)"
   ]
  },
  {
   "cell_type": "code",
   "execution_count": 43,
   "metadata": {},
   "outputs": [],
   "source": [
    "stopwords = ENGLISH_STOP_WORDS.union(['swiggy','zomato','aggarwal','harsh','garg','abhishek','2021','11','ve','ncr',\n",
    "                                      'delhi','sep','october','india','anita','harshgarg297@gmail.com',\n",
    "                                      'abhishek12318@gmail.com','000','10','100','12','13','14','143','16','19','20','2020',\n",
    "                                      '2022','21','2192573831','24','25','250','2568642602','26th','30','360','3657963965',\n",
    "                                      '420','499','50','500','60','75','80','90','99','999','abhishek12318', 'com', \n",
    "                                      'gmail', 'harshgarg297','ramji','kyc','ft','prathamesh','pathwardhan','singh','flipkart',\n",
    "                                      'amazon','january','jan','feb','february','mar','march','apr','april','may','june','jun',\n",
    "                                      'july','aug','august','sept','september','oct','nov','november','dec','december'])\n",
    "lemmatizer = WordNetLemmatizer()\n",
    "ps = PorterStemmer()\n",
    "# emails['Subject Line'] = emails['Subject Line'].apply(lambda x: lemmatizer.lemmatize(x))\n",
    "emails['Subject Line'] = emails['Subject Line'].apply(lambda x: ps.stem(x))\n",
    "vect = TfidfVectorizer(analyzer = 'word',stop_words=stopwords, max_df=0.50, min_df=2)\n",
    "X = vect.fit_transform(emails['Subject Line'])"
   ]
  },
  {
   "cell_type": "code",
   "execution_count": 276,
   "metadata": {},
   "outputs": [
    {
     "data": {
      "image/png": "[encoded data removed]",
      "text/plain": [
       "<matplotlib.figure.Figure at 0x1e22c88ef98>"
      ]
     },
     "metadata": {},
     "output_type": "display_data"
    }
   ],
   "source": [
    "X_dense = X.todense()\n",
    "pca = PCA(n_components=2).fit(X_dense)\n",
    "coords = pca.transform(X_dense)\n",
    "plt.scatter(coords[:, 0], coords[:, 1], c='m')\n",
    "plt.show()"
   ]
  },
  {
   "cell_type": "code",
   "execution_count": 277,
   "metadata": {},
   "outputs": [],
   "source": [
    "def top_tfidf_feats(row, features, top_n=20):\n",
    "    topn_ids = np.argsort(row)[::-1][:top_n]\n",
    "    top_feats = [(features[i], row[i]) for i in topn_ids]\n",
    "    df = pd.DataFrame(top_feats, columns=['features', 'score'])\n",
    "    return df\n",
    "def top_feats_in_doc(X, features, row_id, top_n=25):\n",
    "    row = np.squeeze(X[row_id].toarray())\n",
    "    return top_tfidf_feats(row, features, top_n)"
   ]
  },
  {
   "cell_type": "code",
   "execution_count": 278,
   "metadata": {},
   "outputs": [
    {
     "name": "stdout",
     "output_type": "stream",
     "text": [
      "  features     score\n",
      "0    short  0.744948\n",
      "1  grocery  0.667122\n",
      "2     yoga  0.000000\n",
      "3    genie  0.000000\n",
      "4     gear  0.000000\n",
      "5      gas  0.000000\n",
      "6   ganesh  0.000000\n",
      "7     game  0.000000\n",
      "8   future  0.000000\n",
      "9    funny  0.000000\n"
     ]
    }
   ],
   "source": [
    "features = vect.get_feature_names()\n",
    "print(top_feats_in_doc(X, features, 1, 10))"
   ]
  },
  {
   "cell_type": "code",
   "execution_count": 279,
   "metadata": {},
   "outputs": [],
   "source": [
    "def top_mean_feats(X, features,\n",
    " grp_ids=None, min_tfidf=0.1, top_n=25):\n",
    "    if grp_ids:\n",
    "        D = X[grp_ids].toarray()\n",
    "    else:\n",
    "        D = X.toarray()\n",
    "    D[D < min_tfidf] = 0\n",
    "    tfidf_means = np.mean(D, axis=0)\n",
    "    return top_tfidf_feats(tfidf_means, features, top_n)"
   ]
  },
  {
   "cell_type": "code",
   "execution_count": 280,
   "metadata": {},
   "outputs": [
    {
     "name": "stdout",
     "output_type": "stream",
     "text": [
      "  features     score\n",
      "0    order  0.048556\n",
      "1      new  0.015817\n",
      "2      day  0.015544\n",
      "3    today  0.011769\n",
      "4  summary  0.010785\n",
      "5     free  0.010671\n",
      "6     make  0.010476\n",
      "7     time  0.010120\n",
      "8     just  0.008665\n",
      "9      big  0.008474\n"
     ]
    }
   ],
   "source": [
    "print(top_mean_feats(X, features, top_n=10))"
   ]
  },
  {
   "cell_type": "markdown",
   "metadata": {},
   "source": [
    "# Elbow to find ideal cluster number"
   ]
  },
  {
   "cell_type": "code",
   "execution_count": 281,
   "metadata": {},
   "outputs": [],
   "source": [
    "distortions = []\n",
    "K = range(1,10)\n",
    "for k in K:\n",
    "    clf = KMeans(n_clusters=k, max_iter=100, init='k-means++', n_init=1)\n",
    "    clf.fit(X)\n",
    "    distortions.append(clf.inertia_)"
   ]
  },
  {
   "cell_type": "code",
   "execution_count": 282,
   "metadata": {},
   "outputs": [
    {
     "data": {
      "image/png": "[encoded data removed]",
      "text/plain": [
       "<matplotlib.figure.Figure at 0x1e230e5e860>"
      ]
     },
     "metadata": {},
     "output_type": "display_data"
    }
   ],
   "source": [
    "plt.figure(figsize=(16,8))\n",
    "plt.plot(K, distortions, 'bx-')\n",
    "plt.xlabel('k')\n",
    "plt.ylabel('Distortion')\n",
    "plt.title('The Elbow Method showing the optimal k')\n",
    "plt.show()"
   ]
  },
  {
   "cell_type": "code",
   "execution_count": 283,
   "metadata": {},
   "outputs": [],
   "source": [
    "n_clusters = 2\n",
    "clf = KMeans(n_clusters=n_clusters, max_iter=100, init='k-means++', n_init=1)\n",
    "labels = clf.fit_predict(X)"
   ]
  },
  {
   "cell_type": "code",
   "execution_count": 284,
   "metadata": {},
   "outputs": [],
   "source": [
    "label_colors = [\"#2AB0E9\", \"#2BAF74\", \"#D7665E\", \"#CCCCCC\", \n",
    "                \"#D2CA0D\", \"#522A64\", \"#A3DB05\", \"#FC6514\"]\n",
    "colors = [label_colors[i] for i in labels]"
   ]
  },
  {
   "cell_type": "code",
   "execution_count": 285,
   "metadata": {},
   "outputs": [
    {
     "data": {
      "text/plain": [
       "<matplotlib.collections.PathCollection at 0x1e238e92b00>"
      ]
     },
     "execution_count": 285,
     "metadata": {},
     "output_type": "execute_result"
    },
    {
     "data": {
      "image/png": "[encoded data removed]",
      "text/plain": [
       "<matplotlib.figure.Figure at 0x1e238992cf8>"
      ]
     },
     "metadata": {},
     "output_type": "display_data"
    }
   ],
   "source": [
    "plt.scatter(coords[:, 0], coords[:, 1], c=colors)"
   ]
  },
  {
   "cell_type": "code",
   "execution_count": 286,
   "metadata": {},
   "outputs": [
    {
     "data": {
      "image/png": "[encoded data removed]",
      "text/plain": [
       "<matplotlib.figure.Figure at 0x1e238e7af98>"
      ]
     },
     "metadata": {},
     "output_type": "display_data"
    }
   ],
   "source": [
    "centroids = clf.cluster_centers_\n",
    "centroid_coords = pca.transform(centroids)\n",
    "plt.scatter(centroid_coords[:, 0], centroid_coords[:, 1], marker='X', s=200, linewidths=2, c='#444d60')\n",
    "plt.show()"
   ]
  },
  {
   "cell_type": "code",
   "execution_count": 287,
   "metadata": {},
   "outputs": [],
   "source": [
    "def top_feats_per_cluster(X, y, features, min_tfidf=0.1, top_n=25):\n",
    "    dfs = []\n",
    "    labels = np.unique(y)\n",
    "    for label in labels:\n",
    "        ids = np.where(y==label) \n",
    "        feats_df = top_mean_feats(X, features, ids,    min_tfidf=min_tfidf, top_n=top_n)\n",
    "        feats_df.label = label\n",
    "        dfs.append(feats_df)\n",
    "    return dfs\n",
    "\n",
    "def plot_tfidf_classfeats_h(dfs):\n",
    "    fig = plt.figure(figsize=(12, 9), facecolor=\"w\")\n",
    "    x = np.arange(len(dfs[0]))\n",
    "    for i, df in enumerate(dfs):\n",
    "        ax = fig.add_subplot(1, len(dfs), i+1)\n",
    "        ax.spines[\"top\"].set_visible(False)\n",
    "        ax.spines[\"right\"].set_visible(False)\n",
    "        ax.set_frame_on(False)\n",
    "        ax.get_xaxis().tick_bottom()\n",
    "        ax.get_yaxis().tick_left()\n",
    "        ax.set_xlabel(\"Tf-Idf Score\", labelpad=16, fontsize=14)\n",
    "        ax.set_title(\"cluster = \" + str(df.label), fontsize=16)\n",
    "        ax.ticklabel_format(axis='x', style='sci', scilimits=(-2,2))\n",
    "        ax.barh(x, df.score, align='center', color='#7530FF')\n",
    "        ax.set_yticks(x)\n",
    "        ax.set_ylim([-1, x[-1]+1])\n",
    "        yticks = ax.set_yticklabels(df.features)\n",
    "        plt.subplots_adjust(bottom=0.09, right=0.97, left=0.15, top=0.95, wspace=0.52)\n",
    "    plt.show()"
   ]
  },
  {
   "cell_type": "code",
   "execution_count": 288,
   "metadata": {},
   "outputs": [
    {
     "data": {
      "image/png": "[encoded data removed]",
      "text/plain": [
       "<matplotlib.figure.Figure at 0x1e238b23470>"
      ]
     },
     "metadata": {},
     "output_type": "display_data"
    }
   ],
   "source": [
    "plot_tfidf_classfeats_h(top_feats_per_cluster(X, labels, features, 0.1, 25))"
   ]
  },
  {
   "cell_type": "markdown",
   "metadata": {},
   "source": [
    "# Cosine Similarity"
   ]
  },
  {
   "cell_type": "markdown",
   "metadata": {},
   "source": [
    "#### Cos Sim of 1 email header against everything"
   ]
  },
  {
   "cell_type": "code",
   "execution_count": 271,
   "metadata": {},
   "outputs": [
    {
     "name": "stdout",
     "output_type": "stream",
     "text": [
      "[1. 0. 0. ... 0. 0. 0.]\n"
     ]
    }
   ],
   "source": [
    "cosine_sim = linear_kernel(X[0:1], X).flatten()\n",
    "print(cosine_sim)"
   ]
  },
  {
   "cell_type": "markdown",
   "metadata": {},
   "source": [
    "#### Cos Sim of query against everything to find relevant email headers"
   ]
  },
  {
   "cell_type": "code",
   "execution_count": 290,
   "metadata": {},
   "outputs": [
    {
     "name": "stdout",
     "output_type": "stream",
     "text": [
      "[0. 0. 0. ... 0. 0. 0.]\n"
     ]
    }
   ],
   "source": [
    "query = \"pizza\"\n",
    "\n",
    "vec_query = vect.transform([query]) #vect is tfidvectorization class instance initiated with params\n",
    "\n",
    "cosine_sim = linear_kernel(vec_query, X).flatten()\n",
    "print(cosine_sim)"
   ]
  },
  {
   "cell_type": "code",
   "execution_count": 291,
   "metadata": {},
   "outputs": [
    {
     "name": "stdout",
     "output_type": "stream",
     "text": [
      "[226 340 199 379 378 377 376 375 374]\n"
     ]
    }
   ],
   "source": [
    "related_email_indices = cosine_sim.argsort()[:-10:-1]\n",
    "print(related_email_indices)"
   ]
  },
  {
   "cell_type": "code",
   "execution_count": 296,
   "metadata": {},
   "outputs": [
    {
     "name": "stdout",
     "output_type": "stream",
     "text": [
      "your zomato order from nomad pizza - traveller seri\n"
     ]
    },
    {
     "name": "stderr",
     "output_type": "stream",
     "text": [
      "C:\\Anaconda\\lib\\site-packages\\ipykernel_launcher.py:3: FutureWarning: Method .as_matrix will be removed in a future version. Use .values instead.\n",
      "  This is separate from the ipykernel package so we can avoid doing imports until\n"
     ]
    }
   ],
   "source": [
    "# Print out the first result\n",
    "first_email_index = related_email_indices[0]\n",
    "print(emails['Subject Line'].as_matrix()[first_email_index])"
   ]
  },
  {
   "cell_type": "markdown",
   "metadata": {},
   "source": [
    "### Experimental - End"
   ]
  },
  {
   "cell_type": "markdown",
   "metadata": {},
   "source": [
    "# Automated process to find email headers by a query using cosine similarity"
   ]
  },
  {
   "cell_type": "code",
   "execution_count": 297,
   "metadata": {},
   "outputs": [],
   "source": [
    "def read_email_bodies():\n",
    "    emails = pd.read_excel(r\"C:\\Users\\Harsh Garg\\Desktop\\intract\\Email Subject Line Scrapper.xlsx\",'Saved Data')\n",
    "    emails = emails.drop(columns = 'Unnamed: 7')\n",
    "    emails = emails.drop_duplicates(subset = 'Message Id')\n",
    "    emails = emails.drop_duplicates(subset = 'Subject Line')\n",
    "    emails = emails[['Email','Subject Line','Email from']]\n",
    "    emails['Email from'] = emails['Email from'].fillna('abhishek12318@gmail.com')\n",
    "    \n",
    "    return emails['Subject Line']\n",
    "\n",
    "class EmailDataset: \n",
    "    def __init__(self):\n",
    "        stopwords = ENGLISH_STOP_WORDS.union(['swiggy','zomato','aggarwal','harsh','garg','abhishek','2021','11','ve','ncr',\n",
    "                                      'delhi','sep','october','india','anita','harshgarg297@gmail.com',\n",
    "                                      'abhishek12318@gmail.com','000','10','100','12','13','14','143','16','19','20','2020',\n",
    "                                      '2022','21','2192573831','24','25','250','2568642602','26th','30','360','3657963965',\n",
    "                                      '420','499','50','500','60','75','80','90','99','999','abhishek12318', 'com', \n",
    "                                      'gmail', 'harshgarg297','ramji','kyc','ft','prathamesh','pathwardhan','singh','flipkart',\n",
    "                                      'amazon','january','jan','feb','february','mar','march','apr','april','may','june','jun',\n",
    "                                      'july','aug','august','sept','september','oct','nov','november','dec','december'])\n",
    "        self.vec = TfidfVectorizer(analyzer='word', stop_words=stopwords, max_df=0.3, min_df=2)\n",
    "        self.emails = read_email_bodies() \n",
    "\n",
    "        # train on the given email data.\n",
    "        self.train()\n",
    "  \n",
    "    def train(self):\n",
    "        self.vec_train = self.vec.fit_transform(self.emails)\n",
    "\n",
    "    def query(self, keyword, limit):\n",
    "        vec_keyword = self.vec.transform([keyword])\n",
    "        cosine_sim = linear_kernel(vec_keyword, self.vec_train).flatten()\n",
    "        related_email_indices = cosine_sim.argsort()[:-limit:-1]\n",
    "        return related_email_indices\n",
    "\n",
    "    def find_email_by_index(self, i):\n",
    "        return self.emails.as_matrix()[i]"
   ]
  },
  {
   "cell_type": "code",
   "execution_count": 300,
   "metadata": {},
   "outputs": [],
   "source": [
    "test_var = EmailDataset()"
   ]
  },
  {
   "cell_type": "code",
   "execution_count": 304,
   "metadata": {},
   "outputs": [
    {
     "data": {
      "text/plain": [
       "array([217, 456, 104, 381, 380, 379, 378, 377, 376], dtype=int64)"
      ]
     },
     "execution_count": 304,
     "metadata": {},
     "output_type": "execute_result"
    }
   ],
   "source": [
    "test_var.query('fast',10)"
   ]
  },
  {
   "cell_type": "code",
   "execution_count": 305,
   "metadata": {},
   "outputs": [
    {
     "name": "stderr",
     "output_type": "stream",
     "text": [
      "C:\\Anaconda\\lib\\site-packages\\ipykernel_launcher.py:37: FutureWarning: Method .as_matrix will be removed in a future version. Use .values instead.\n"
     ]
    },
    {
     "data": {
      "text/plain": [
       "\"Know someone who's on a fast? 🤔\""
      ]
     },
     "execution_count": 305,
     "metadata": {},
     "output_type": "execute_result"
    }
   ],
   "source": [
    "test_var.find_email_by_index(217)"
   ]
  },
  {
   "cell_type": "markdown",
   "metadata": {},
   "source": [
    "# Word2Vec"
   ]
  },
  {
   "cell_type": "code",
   "execution_count": null,
   "metadata": {},
   "outputs": [],
   "source": [
    "'''https://stackabuse.com/implementing-word2vec-with-gensim-library-in-python/'''"
   ]
  },
  {
   "cell_type": "code",
   "execution_count": 14,
   "metadata": {},
   "outputs": [],
   "source": [
    "import bs4 as bs\n",
    "import urllib.request\n",
    "import re\n",
    "import nltk"
   ]
  },
  {
   "cell_type": "code",
   "execution_count": 132,
   "metadata": {},
   "outputs": [
    {
     "data": {
      "text/plain": [
       "'In the script above, we first download the Wikipedia article using the urlopen method of the \\nrequest class of the urllib library. We then read the article content and parse it using an object of the \\nBeautifulSoup class. Wikipedia stores the text content of the article inside p tags. We use the find_all \\nfunction of the BeautifulSoup object to fetch all the contents from the paragraph tags of the article'"
      ]
     },
     "execution_count": 132,
     "metadata": {},
     "output_type": "execute_result"
    }
   ],
   "source": [
    "# scrapped_data = urllib.request.urlopen('https://en.wikipedia.org/wiki/Emotions')\n",
    "# article = scrapped_data.read()\n",
    "\n",
    "# parsed_article = bs.BeautifulSoup(article,'lxml')\n",
    "\n",
    "# paragraphs = parsed_article.find_all('p')\n",
    "\n",
    "# article_text = \"\"\n",
    "\n",
    "# for p in paragraphs:\n",
    "#     article_text += p.text\n",
    "\n",
    "'''In the script above, we first download the Wikipedia article using the urlopen method of the \n",
    "request class of the urllib library. We then read the article content and parse it using an object of the \n",
    "BeautifulSoup class. Wikipedia stores the text content of the article inside p tags. We use the find_all \n",
    "function of the BeautifulSoup object to fetch all the contents from the paragraph tags of the article'''"
   ]
  },
  {
   "cell_type": "code",
   "execution_count": 200,
   "metadata": {},
   "outputs": [],
   "source": [
    "emails = pd.read_excel(r\"C:\\Users\\Harsh Garg\\Desktop\\intract\\Email Subject Line Scrapper.xlsx\",'Saved Data')"
   ]
  },
  {
   "cell_type": "code",
   "execution_count": 204,
   "metadata": {},
   "outputs": [],
   "source": [
    "article_text = ''\n",
    "for x in emails['Subject Line']:\n",
    "    article_text = article_text + ' ' + x"
   ]
  },
  {
   "cell_type": "code",
   "execution_count": 225,
   "metadata": {},
   "outputs": [
    {
     "data": {
      "text/plain": [
       "'In the script above, we convert all the text to lowercase and then remove all the digits, special characters, \\nand extra spaces from the text. After preprocessing, we are only left with the words.\\n\\nThe Word2Vec model is trained on a collection of words. First, we need to convert our article into sentences. \\nWe use nltk.sent_tokenize utility to convert our article into sentences. To convert sentences into words, we use \\nnltk.word_tokenize utility. As a last preprocessing step, we remove all the stop words from the text.\\n\\nAfter the script completes its execution, the all_words object contains the list of all the words in the article. \\nWe will use this list to create our Word2Vec model with the Gensim library.'"
      ]
     },
     "execution_count": 225,
     "metadata": {},
     "output_type": "execute_result"
    }
   ],
   "source": [
    "# Cleaing the text\n",
    "processed_article = article_text.lower()\n",
    "processed_article = re.sub('[^a-zA-Z]', ' ', processed_article )\n",
    "processed_article = re.sub(r'\\s+', ' ', processed_article)\n",
    "\n",
    "# Preparing the dataset\n",
    "all_sentences = nltk.sent_tokenize(processed_article)\n",
    "\n",
    "all_words = [nltk.word_tokenize(sent) for sent in all_sentences]\n",
    "\n",
    "# Removing Stop Words\n",
    "# from nltk.corpus import stopwords\n",
    "from sklearn.feature_extraction.text import TfidfVectorizer, ENGLISH_STOP_WORDS\n",
    "\n",
    "stopwords = ENGLISH_STOP_WORDS.union(['swiggy','zomato','aggarwal','harsh','garg','abhishek','2021','11','ve','ncr',\n",
    "                                      'delhi','sep','october','india','anita','harshgarg297@gmail.com',\n",
    "                                      'abhishek12318@gmail.com','000','10','100','12','13','14','143','16','19','20','2020',\n",
    "                                      '2022','21','2192573831','24','25','250','2568642602','26th','30','360','3657963965',\n",
    "                                      '420','499','50','500','60','75','80','90','99','999','abhishek12318', 'com', \n",
    "                                      'gmail', 'harshgarg297','ramji','kyc','ft','prathamesh','pathwardhan','singh','flipkart',\n",
    "                                      'amazon','january','jan','feb','february','mar','march','apr','april','may','june','jun',\n",
    "                                      'july','aug','august','sept','september','oct','nov','november','dec','december'])\n",
    "\n",
    "\n",
    "for i in range(len(all_words)):\n",
    "    all_words[i] = [w for w in all_words[i] if w not in stopwords]\n",
    "\n",
    "'''In the script above, we convert all the text to lowercase and then remove all the digits, special characters, \n",
    "and extra spaces from the text. After preprocessing, we are only left with the words.\n",
    "\n",
    "The Word2Vec model is trained on a collection of words. First, we need to convert our article into sentences. \n",
    "We use nltk.sent_tokenize utility to convert our article into sentences. To convert sentences into words, we use \n",
    "nltk.word_tokenize utility. As a last preprocessing step, we remove all the stop words from the text.\n",
    "\n",
    "After the script completes its execution, the all_words object contains the list of all the words in the article. \n",
    "We will use this list to create our Word2Vec model with the Gensim library.'''"
   ]
  },
  {
   "cell_type": "code",
   "execution_count": 226,
   "metadata": {},
   "outputs": [
    {
     "data": {
      "text/plain": [
       "'When the above script is executed, you will see a list of all the unique words occurring at least twice'"
      ]
     },
     "execution_count": 226,
     "metadata": {},
     "output_type": "execute_result"
    }
   ],
   "source": [
    "from gensim.models import Word2Vec\n",
    "\n",
    "word2vec = Word2Vec(all_words, min_count=2, hs = 1, negative = 0) #min_count controls words to be included in vocabulary based on minimum frequency\n",
    "\n",
    "vocabulary = word2vec.wv.vocab\n",
    "# print(vocabulary)\n",
    "\n",
    "'''When the above script is executed, you will see a list of all the unique words occurring at least twice'''"
   ]
  },
  {
   "cell_type": "code",
   "execution_count": 227,
   "metadata": {},
   "outputs": [
    {
     "data": {
      "text/plain": [
       "'https://radimrehurek.com/gensim/models/word2vec.html'"
      ]
     },
     "execution_count": 227,
     "metadata": {},
     "output_type": "execute_result"
    }
   ],
   "source": [
    "v1 = word2vec.wv['hello']\n",
    "'''The vector v1 contains the vector representation for the word \"artificial\". By default, a hundred dimensional vector is \n",
    "created by Gensim Word2Vec.\n",
    "Vectors generated through Word2Vec are not affected by the size of the vocabulary.'''\n",
    "\n",
    "'''https://radimrehurek.com/gensim/models/word2vec.html'''"
   ]
  },
  {
   "cell_type": "markdown",
   "metadata": {},
   "source": [
    "#### Finding Similar Words (an example)"
   ]
  },
  {
   "cell_type": "code",
   "execution_count": 228,
   "metadata": {},
   "outputs": [],
   "source": [
    "sim_words = word2vec.wv.most_similar('hello',topn=2)"
   ]
  },
  {
   "cell_type": "code",
   "execution_count": 229,
   "metadata": {},
   "outputs": [
    {
     "data": {
      "text/plain": [
       "[('days', 0.8252060413360596), ('s', 0.8213356733322144)]"
      ]
     },
     "execution_count": 229,
     "metadata": {},
     "output_type": "execute_result"
    }
   ],
   "source": [
    "sim_words"
   ]
  },
  {
   "cell_type": "markdown",
   "metadata": {},
   "source": [
    "#### PCA and Visualisation"
   ]
  },
  {
   "cell_type": "code",
   "execution_count": 230,
   "metadata": {},
   "outputs": [
    {
     "data": {
      "text/plain": [
       "'https://towardsdatascience.com/visualization-of-word-embedding-vectors-using-gensim-and-pca-8f592a5d3354'"
      ]
     },
     "execution_count": 230,
     "metadata": {},
     "output_type": "execute_result"
    }
   ],
   "source": [
    "'''https://towardsdatascience.com/visualization-of-word-embedding-vectors-using-gensim-and-pca-8f592a5d3354'''"
   ]
  },
  {
   "cell_type": "code",
   "execution_count": 231,
   "metadata": {},
   "outputs": [
    {
     "name": "stderr",
     "output_type": "stream",
     "text": [
      "C:\\Anaconda\\lib\\site-packages\\ipykernel_launcher.py:1: DeprecationWarning: Call to deprecated `__getitem__` (Method will be removed in 4.0.0, use self.wv.__getitem__() instead).\n",
      "  \"\"\"Entry point for launching an IPython kernel.\n"
     ]
    },
    {
     "data": {
      "text/html": [
       "<div>\n",
       "<style scoped>\n",
       "    .dataframe tbody tr th:only-of-type {\n",
       "        vertical-align: middle;\n",
       "    }\n",
       "\n",
       "    .dataframe tbody tr th {\n",
       "        vertical-align: top;\n",
       "    }\n",
       "\n",
       "    .dataframe thead th {\n",
       "        text-align: right;\n",
       "    }\n",
       "</style>\n",
       "<table border=\"1\" class=\"dataframe\">\n",
       "  <thead>\n",
       "    <tr style=\"text-align: right;\">\n",
       "      <th></th>\n",
       "      <th>0</th>\n",
       "      <th>1</th>\n",
       "      <th>2</th>\n",
       "      <th>3</th>\n",
       "      <th>4</th>\n",
       "      <th>5</th>\n",
       "      <th>6</th>\n",
       "      <th>7</th>\n",
       "      <th>8</th>\n",
       "      <th>9</th>\n",
       "      <th>...</th>\n",
       "      <th>90</th>\n",
       "      <th>91</th>\n",
       "      <th>92</th>\n",
       "      <th>93</th>\n",
       "      <th>94</th>\n",
       "      <th>95</th>\n",
       "      <th>96</th>\n",
       "      <th>97</th>\n",
       "      <th>98</th>\n",
       "      <th>99</th>\n",
       "    </tr>\n",
       "  </thead>\n",
       "  <tbody>\n",
       "    <tr>\n",
       "      <th>mega</th>\n",
       "      <td>0.008751</td>\n",
       "      <td>-0.002894</td>\n",
       "      <td>-0.001563</td>\n",
       "      <td>0.006226</td>\n",
       "      <td>0.001202</td>\n",
       "      <td>0.000360</td>\n",
       "      <td>-0.002713</td>\n",
       "      <td>0.006981</td>\n",
       "      <td>-0.006270</td>\n",
       "      <td>-0.001551</td>\n",
       "      <td>...</td>\n",
       "      <td>-0.000050</td>\n",
       "      <td>-0.000027</td>\n",
       "      <td>-0.002755</td>\n",
       "      <td>-0.001558</td>\n",
       "      <td>0.003663</td>\n",
       "      <td>0.001773</td>\n",
       "      <td>0.001560</td>\n",
       "      <td>-0.002382</td>\n",
       "      <td>-0.002060</td>\n",
       "      <td>-0.003448</td>\n",
       "    </tr>\n",
       "    <tr>\n",
       "      <th>chopsticks</th>\n",
       "      <td>0.001723</td>\n",
       "      <td>0.003764</td>\n",
       "      <td>-0.000611</td>\n",
       "      <td>-0.005215</td>\n",
       "      <td>-0.000166</td>\n",
       "      <td>0.001023</td>\n",
       "      <td>-0.002564</td>\n",
       "      <td>-0.001762</td>\n",
       "      <td>-0.001807</td>\n",
       "      <td>-0.000882</td>\n",
       "      <td>...</td>\n",
       "      <td>0.002901</td>\n",
       "      <td>0.004968</td>\n",
       "      <td>0.000239</td>\n",
       "      <td>-0.002780</td>\n",
       "      <td>0.002472</td>\n",
       "      <td>-0.003272</td>\n",
       "      <td>-0.000027</td>\n",
       "      <td>-0.002666</td>\n",
       "      <td>0.001137</td>\n",
       "      <td>-0.001222</td>\n",
       "    </tr>\n",
       "    <tr>\n",
       "      <th>twitter</th>\n",
       "      <td>0.003092</td>\n",
       "      <td>-0.004378</td>\n",
       "      <td>0.003737</td>\n",
       "      <td>-0.003834</td>\n",
       "      <td>0.003650</td>\n",
       "      <td>0.000724</td>\n",
       "      <td>-0.001833</td>\n",
       "      <td>0.000498</td>\n",
       "      <td>0.002683</td>\n",
       "      <td>-0.001407</td>\n",
       "      <td>...</td>\n",
       "      <td>0.001794</td>\n",
       "      <td>-0.000785</td>\n",
       "      <td>-0.000346</td>\n",
       "      <td>0.003382</td>\n",
       "      <td>-0.003420</td>\n",
       "      <td>-0.000565</td>\n",
       "      <td>-0.004755</td>\n",
       "      <td>0.004779</td>\n",
       "      <td>-0.001730</td>\n",
       "      <td>-0.000496</td>\n",
       "    </tr>\n",
       "    <tr>\n",
       "      <th>path</th>\n",
       "      <td>-0.002140</td>\n",
       "      <td>-0.003088</td>\n",
       "      <td>-0.002949</td>\n",
       "      <td>0.004497</td>\n",
       "      <td>0.004138</td>\n",
       "      <td>0.001866</td>\n",
       "      <td>0.000825</td>\n",
       "      <td>-0.002988</td>\n",
       "      <td>-0.003284</td>\n",
       "      <td>-0.002138</td>\n",
       "      <td>...</td>\n",
       "      <td>0.003904</td>\n",
       "      <td>0.000740</td>\n",
       "      <td>0.003078</td>\n",
       "      <td>0.002206</td>\n",
       "      <td>-0.001970</td>\n",
       "      <td>0.001247</td>\n",
       "      <td>-0.002901</td>\n",
       "      <td>-0.000935</td>\n",
       "      <td>0.002695</td>\n",
       "      <td>-0.001013</td>\n",
       "    </tr>\n",
       "    <tr>\n",
       "      <th>sustainable</th>\n",
       "      <td>0.002435</td>\n",
       "      <td>-0.003588</td>\n",
       "      <td>0.003799</td>\n",
       "      <td>0.003741</td>\n",
       "      <td>0.004871</td>\n",
       "      <td>0.005033</td>\n",
       "      <td>-0.000932</td>\n",
       "      <td>-0.001567</td>\n",
       "      <td>0.005329</td>\n",
       "      <td>0.000434</td>\n",
       "      <td>...</td>\n",
       "      <td>0.003479</td>\n",
       "      <td>-0.002486</td>\n",
       "      <td>0.000210</td>\n",
       "      <td>-0.006340</td>\n",
       "      <td>-0.001351</td>\n",
       "      <td>0.004957</td>\n",
       "      <td>-0.007500</td>\n",
       "      <td>0.004090</td>\n",
       "      <td>0.006729</td>\n",
       "      <td>-0.000914</td>\n",
       "    </tr>\n",
       "  </tbody>\n",
       "</table>\n",
       "<p>5 rows × 100 columns</p>\n",
       "</div>"
      ],
      "text/plain": [
       "                   0         1         2         3         4         5   \\\n",
       "mega         0.008751 -0.002894 -0.001563  0.006226  0.001202  0.000360   \n",
       "chopsticks   0.001723  0.003764 -0.000611 -0.005215 -0.000166  0.001023   \n",
       "twitter      0.003092 -0.004378  0.003737 -0.003834  0.003650  0.000724   \n",
       "path        -0.002140 -0.003088 -0.002949  0.004497  0.004138  0.001866   \n",
       "sustainable  0.002435 -0.003588  0.003799  0.003741  0.004871  0.005033   \n",
       "\n",
       "                   6         7         8         9     ...           90  \\\n",
       "mega        -0.002713  0.006981 -0.006270 -0.001551    ...    -0.000050   \n",
       "chopsticks  -0.002564 -0.001762 -0.001807 -0.000882    ...     0.002901   \n",
       "twitter     -0.001833  0.000498  0.002683 -0.001407    ...     0.001794   \n",
       "path         0.000825 -0.002988 -0.003284 -0.002138    ...     0.003904   \n",
       "sustainable -0.000932 -0.001567  0.005329  0.000434    ...     0.003479   \n",
       "\n",
       "                   91        92        93        94        95        96  \\\n",
       "mega        -0.000027 -0.002755 -0.001558  0.003663  0.001773  0.001560   \n",
       "chopsticks   0.004968  0.000239 -0.002780  0.002472 -0.003272 -0.000027   \n",
       "twitter     -0.000785 -0.000346  0.003382 -0.003420 -0.000565 -0.004755   \n",
       "path         0.000740  0.003078  0.002206 -0.001970  0.001247 -0.002901   \n",
       "sustainable -0.002486  0.000210 -0.006340 -0.001351  0.004957 -0.007500   \n",
       "\n",
       "                   97        98        99  \n",
       "mega        -0.002382 -0.002060 -0.003448  \n",
       "chopsticks  -0.002666  0.001137 -0.001222  \n",
       "twitter      0.004779 -0.001730 -0.000496  \n",
       "path        -0.000935  0.002695 -0.001013  \n",
       "sustainable  0.004090  0.006729 -0.000914  \n",
       "\n",
       "[5 rows x 100 columns]"
      ]
     },
     "execution_count": 231,
     "metadata": {},
     "output_type": "execute_result"
    }
   ],
   "source": [
    "X=word2vec[word2vec.wv.vocab]\n",
    "df=pd.DataFrame(X)\n",
    "df.index = list(word2vec.wv.vocab)\n",
    "df.shape\n",
    "df.head()"
   ]
  },
  {
   "cell_type": "code",
   "execution_count": 232,
   "metadata": {},
   "outputs": [
    {
     "data": {
      "image/png": "[encoded data removed]",
      "text/plain": [
       "<matplotlib.figure.Figure at 0x238f3502278>"
      ]
     },
     "metadata": {},
     "output_type": "display_data"
    }
   ],
   "source": [
    "X_dense = df.copy()\n",
    "pca = PCA(n_components=2).fit(X_dense)\n",
    "coords = pca.transform(X_dense)\n",
    "plt.scatter(coords[:, 0], coords[:, 1], c='m')\n",
    "plt.show()"
   ]
  },
  {
   "cell_type": "code",
   "execution_count": 233,
   "metadata": {},
   "outputs": [],
   "source": [
    "n_clusters = 2\n",
    "clf = KMeans(n_clusters=n_clusters, max_iter=100, init='k-means++', n_init=1)\n",
    "labels = clf.fit_predict(df)"
   ]
  },
  {
   "cell_type": "code",
   "execution_count": 234,
   "metadata": {},
   "outputs": [
    {
     "data": {
      "text/plain": [
       "((1103,), (1103, 100))"
      ]
     },
     "execution_count": 234,
     "metadata": {},
     "output_type": "execute_result"
    }
   ],
   "source": [
    "labels.shape, df.shape"
   ]
  },
  {
   "cell_type": "code",
   "execution_count": 235,
   "metadata": {},
   "outputs": [],
   "source": [
    "label_colors = [\"#2AB0E9\", \"#2BAF74\", \"#D7665E\", \"#CCCCCC\", \n",
    "                \"#D2CA0D\", \"#522A64\", \"#A3DB05\", \"#FC6514\"]\n",
    "colors = [label_colors[i] for i in labels]"
   ]
  },
  {
   "cell_type": "code",
   "execution_count": 236,
   "metadata": {},
   "outputs": [
    {
     "data": {
      "text/plain": [
       "<matplotlib.collections.PathCollection at 0x238e9047400>"
      ]
     },
     "execution_count": 236,
     "metadata": {},
     "output_type": "execute_result"
    },
    {
     "data": {
      "image/png": "[encoded data removed]",
      "text/plain": [
       "<matplotlib.figure.Figure at 0x238f203f9b0>"
      ]
     },
     "metadata": {},
     "output_type": "display_data"
    }
   ],
   "source": [
    "plt.scatter(coords[:,0],coords[:,1], c=colors)"
   ]
  },
  {
   "cell_type": "code",
   "execution_count": 237,
   "metadata": {
    "scrolled": true
   },
   "outputs": [
    {
     "data": {
      "image/png": "[encoded data removed]",
      "text/plain": [
       "<matplotlib.figure.Figure at 0x238e8ef0898>"
      ]
     },
     "metadata": {},
     "output_type": "display_data"
    }
   ],
   "source": [
    "centroids = clf.cluster_centers_\n",
    "centroid_coords = pca.transform(centroids)\n",
    "plt.scatter(centroid_coords[:, 0], centroid_coords[:, 1], marker='X', s=200, linewidths=2, c='#444d60')\n",
    "plt.show()"
   ]
  },
  {
   "cell_type": "code",
   "execution_count": 238,
   "metadata": {},
   "outputs": [
    {
     "data": {
      "text/html": [
       "<div>\n",
       "<style scoped>\n",
       "    .dataframe tbody tr th:only-of-type {\n",
       "        vertical-align: middle;\n",
       "    }\n",
       "\n",
       "    .dataframe tbody tr th {\n",
       "        vertical-align: top;\n",
       "    }\n",
       "\n",
       "    .dataframe thead th {\n",
       "        text-align: right;\n",
       "    }\n",
       "</style>\n",
       "<table border=\"1\" class=\"dataframe\">\n",
       "  <thead>\n",
       "    <tr style=\"text-align: right;\">\n",
       "      <th></th>\n",
       "      <th>sqdist</th>\n",
       "      <th>label</th>\n",
       "    </tr>\n",
       "  </thead>\n",
       "  <tbody>\n",
       "    <tr>\n",
       "      <th>0</th>\n",
       "      <td>0.002333</td>\n",
       "      <td>0</td>\n",
       "    </tr>\n",
       "    <tr>\n",
       "      <th>1</th>\n",
       "      <td>0.002572</td>\n",
       "      <td>1</td>\n",
       "    </tr>\n",
       "    <tr>\n",
       "      <th>2</th>\n",
       "      <td>0.002338</td>\n",
       "      <td>1</td>\n",
       "    </tr>\n",
       "    <tr>\n",
       "      <th>3</th>\n",
       "      <td>0.002106</td>\n",
       "      <td>1</td>\n",
       "    </tr>\n",
       "    <tr>\n",
       "      <th>4</th>\n",
       "      <td>0.003717</td>\n",
       "      <td>1</td>\n",
       "    </tr>\n",
       "  </tbody>\n",
       "</table>\n",
       "</div>"
      ],
      "text/plain": [
       "     sqdist  label\n",
       "0  0.002333      0\n",
       "1  0.002572      1\n",
       "2  0.002338      1\n",
       "3  0.002106      1\n",
       "4  0.003717      1"
      ]
     },
     "execution_count": 238,
     "metadata": {},
     "output_type": "execute_result"
    }
   ],
   "source": [
    "# squared distance to cluster center\n",
    "X_dist = clf.transform(df)**2\n",
    "\n",
    "# do something useful...\n",
    "import pandas as pd\n",
    "df_dist = pd.DataFrame(X_dist.sum(axis=1), columns=['sqdist'])\n",
    "df_dist['label'] = clf.labels_\n",
    "\n",
    "df_dist.head()"
   ]
  },
  {
   "cell_type": "code",
   "execution_count": 239,
   "metadata": {},
   "outputs": [],
   "source": [
    "df_analysis = pd.DataFrame()\n",
    "df_analysis['Vocab'] = df.index\n",
    "df_analysis['Dist'] = df_dist['sqdist']\n",
    "df_analysis['Cluster'] = df_dist['label']\n",
    "df_analysis['Inverse Dist'] = 1/df_analysis['Dist'] #To make it easier to rank the points for the clusters"
   ]
  },
  {
   "cell_type": "code",
   "execution_count": 240,
   "metadata": {},
   "outputs": [
    {
     "data": {
      "image/png": "[encoded data removed]",
      "text/plain": [
       "<matplotlib.figure.Figure at 0x238e8e9d940>"
      ]
     },
     "metadata": {},
     "output_type": "display_data"
    },
    {
     "data": {
      "image/png": "[encoded data removed]",
      "text/plain": [
       "<matplotlib.figure.Figure at 0x238f50b4748>"
      ]
     },
     "metadata": {},
     "output_type": "display_data"
    },
    {
     "data": {
      "text/plain": [
       "(None, None)"
      ]
     },
     "execution_count": 240,
     "metadata": {},
     "output_type": "execute_result"
    }
   ],
   "source": [
    "def plot_bar_closest(cluster_num, top_n, df):\n",
    "    df = df[df['Cluster']==cluster_num]\n",
    "    df = df.sort_values(by = 'Inverse Dist', ascending = False).iloc[:25]\n",
    "    \n",
    "    plt.barh(df['Vocab'], df['Inverse Dist'])\n",
    "    plt.show()\n",
    "plot_bar_closest(0,10,df_analysis), plot_bar_closest(1,10,df_analysis), "
   ]
  }
 ],
 "metadata": {
  "kernelspec": {
   "display_name": "Python 3 (ipykernel)",
   "language": "python",
   "name": "python3"
  },
  "language_info": {
   "codemirror_mode": {
    "name": "ipython",
    "version": 3
   },
   "file_extension": ".py",
   "mimetype": "text/x-python",
   "name": "python",
   "nbconvert_exporter": "python",
   "pygments_lexer": "ipython3",
   "version": "3.9.5"
  }
 },
 "nbformat": 4,
 "nbformat_minor": 2
}
